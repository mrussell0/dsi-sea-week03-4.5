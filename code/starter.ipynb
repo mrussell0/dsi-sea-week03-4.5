{
 "cells": [
  {
   "cell_type": "markdown",
   "metadata": {
    "button": false,
    "deletable": true,
    "new_sheet": false,
    "run_control": {
     "read_only": false
    }
   },
   "source": [
    "___Hello? Can anyone hear me?___"
   ]
  },
  {
   "cell_type": "markdown",
   "metadata": {
    "button": false,
    "deletable": true,
    "new_sheet": false,
    "run_control": {
     "read_only": false
    }
   },
   "source": [
    "<img src=\"https://media.giphy.com/media/xaMg6NGwH2fFS/giphy.gif\" alt=\"Title\" style=\"border: 5px solid #000000; padding: 10px; width: 250px; height: 200px;\"/>"
   ]
  },
  {
   "cell_type": "markdown",
   "metadata": {
    "button": false,
    "deletable": true,
    "new_sheet": false,
    "run_control": {
     "read_only": false
    }
   },
   "source": [
    "## There. Is that better?"
   ]
  },
  {
   "cell_type": "markdown",
   "metadata": {
    "button": false,
    "deletable": true,
    "new_sheet": false,
    "run_control": {
     "read_only": false
    }
   },
   "source": [
    "<img src=\"http://bestanimations.com/Sci-Fi/Aliens/little-grey-extraterrestial-aliens-animated-gif-image-10.gif\" alt=\"Title\" style=\"border: 5px solid #000000; padding: 10px; width: 250px; height: 200px;\"/>"
   ]
  },
  {
   "cell_type": "markdown",
   "metadata": {
    "button": false,
    "deletable": true,
    "new_sheet": false,
    "run_control": {
     "read_only": false
    }
   },
   "source": [
    "## Good... Hello fellow person. My name is Hugh Man. I am also a person like you! Here is a picture of me at a normal human party with my normal human friends!"
   ]
  },
  {
   "cell_type": "markdown",
   "metadata": {
    "button": false,
    "deletable": true,
    "new_sheet": false,
    "run_control": {
     "read_only": false
    }
   },
   "source": [
    "<img src=\"http://www.promvenues.com/blogs/media/Crazy%20Prom%20Themes%20for%20Teenagers%20to%20Spice%20up%20Their%20Party_142.jpg\" alt=\"Title\" style=\"border: 5px solid #000000; padding: 10px; width: 250px; height: 200px;\"/>"
   ]
  },
  {
   "cell_type": "markdown",
   "metadata": {
    "button": false,
    "deletable": true,
    "new_sheet": false,
    "run_control": {
     "read_only": false
    }
   },
   "source": [
    "## Look how much fun we are having drinking everyday human liquids!"
   ]
  },
  {
   "cell_type": "markdown",
   "metadata": {
    "button": false,
    "deletable": true,
    "new_sheet": false,
    "run_control": {
     "read_only": false
    }
   },
   "source": [
    "## Anyways, I have sent this communication to ask you a few questions about normal human activities, that I also do. My human mother is very sick and doesn't get out from her two story Dutch Colonial condo as often as she would like. Here is a picture of her from yesterday."
   ]
  },
  {
   "cell_type": "markdown",
   "metadata": {
    "button": false,
    "deletable": true,
    "new_sheet": false,
    "run_control": {
     "read_only": false
    }
   },
   "source": [
    "<img src=\"http://previews.123rf.com/images/szefei/szefei1302/szefei130200062/18061194-Happy-mother-s-day-concept-Asian-senior-mother-showing-a-gift-and-carnation-flowers-at-home--Stock-Photo.jpg\" alt=\"Title\" style=\"border: 5px solid #000000; padding: 10px; width: 250px; height: 200px;\"/>"
   ]
  },
  {
   "cell_type": "markdown",
   "metadata": {
    "button": false,
    "deletable": true,
    "new_sheet": false,
    "run_control": {
     "read_only": false
    }
   },
   "source": [
    "## She was wondering about the state of technological / military advancement on your human planet. She is very fearful of planets with enough technology to shoot down class C starships from space. Can you help put her fears to rest? My assistant will beam the details to your computer."
   ]
  },
  {
   "cell_type": "markdown",
   "metadata": {
    "button": false,
    "deletable": true,
    "new_sheet": false,
    "run_control": {
     "read_only": false
    }
   },
   "source": [
    "___Beep___\n",
    "### Assistant here! I have updated your notebook with the proper protocols. Please follow the instructions provided.\n",
    "\n",
    "#### Requirements\n",
    "\n",
    "* Access the 'conspiracy' site (https://www.reddit.com/r/conspiracy.json). You should get the first 25 entries from the subreddit right away.\n",
    "* Make sure to keep track of the entry position, title, and upvotes for each entry in the subreddit\n",
    "* Crawl through each url. Extract all the text from each paragraph (they have a <**p**> tag). If there is no url, skip this step.\n",
    "* Crawl through each url. Extract all the links from each link tag (they have an <**a**> tag). If there is no url, skip this step.\n",
    "\n",
    "*** Bonus ***\n",
    "\n",
    "* Crawl through each of the comments. Extract all the text from the body keys of each comment\n",
    "\n",
    "#### Tips\n",
    "\n",
    "* Each entry on the site contains a key called \"permalink\" add it to your base url to navigate to that link's comments\n",
    "* Each entry on the site contains a key called \"url\". Use this link to navigate to the page described in the post\n",
    "\n",
    "<br>\n",
    "** Base Url => https://www.reddit.com **\n"
   ]
  },
  {
   "cell_type": "code",
   "execution_count": 1,
   "metadata": {
    "button": false,
    "collapsed": false,
    "deletable": true,
    "new_sheet": false,
    "run_control": {
     "read_only": false
    }
   },
   "outputs": [],
   "source": [
    "import urllib2\n",
    "from bs4 import BeautifulSoup\n",
    "import json\n",
    "import pandas as pd\n",
    "\n",
    "base = 'https://www.reddit.com'\n",
    "soup = BeautifulSoup(urllib2.urlopen('https://www.reddit.com/r/conspiracy.json').read(), \"lxml\")\n",
    "parsed_json = json.loads(soup.text)"
   ]
  },
  {
   "cell_type": "code",
   "execution_count": 3,
   "metadata": {
    "collapsed": false
   },
   "outputs": [
    {
     "ename": "NameError",
     "evalue": "name 'df' is not defined",
     "output_type": "error",
     "traceback": [
      "\u001b[0;31m---------------------------------------------------------------------------\u001b[0m",
      "\u001b[0;31mNameError\u001b[0m                                 Traceback (most recent call last)",
      "\u001b[0;32m<ipython-input-3-80122a03156c>\u001b[0m in \u001b[0;36m<module>\u001b[0;34m()\u001b[0m\n\u001b[1;32m      1\u001b[0m \u001b[0mp\u001b[0m \u001b[0;34m=\u001b[0m \u001b[0;34m[\u001b[0m\u001b[0;34m]\u001b[0m\u001b[0;34m\u001b[0m\u001b[0m\n\u001b[1;32m      2\u001b[0m \u001b[0ma\u001b[0m \u001b[0;34m=\u001b[0m \u001b[0;34m[\u001b[0m\u001b[0;34m]\u001b[0m\u001b[0;34m\u001b[0m\u001b[0m\n\u001b[0;32m----> 3\u001b[0;31m \u001b[0;32mfor\u001b[0m \u001b[0maddress\u001b[0m \u001b[0;32min\u001b[0m \u001b[0mdf\u001b[0m\u001b[0;34m.\u001b[0m\u001b[0mURL\u001b[0m\u001b[0;34m:\u001b[0m\u001b[0;34m\u001b[0m\u001b[0m\n\u001b[0m\u001b[1;32m      4\u001b[0m     \u001b[0;32mtry\u001b[0m\u001b[0;34m:\u001b[0m\u001b[0;34m\u001b[0m\u001b[0m\n\u001b[1;32m      5\u001b[0m         \u001b[0msoup\u001b[0m \u001b[0;34m=\u001b[0m \u001b[0mBeautifulSoup\u001b[0m\u001b[0;34m(\u001b[0m\u001b[0murllib2\u001b[0m\u001b[0;34m.\u001b[0m\u001b[0murlopen\u001b[0m\u001b[0;34m(\u001b[0m\u001b[0maddress\u001b[0m\u001b[0;34m)\u001b[0m\u001b[0;34m.\u001b[0m\u001b[0mread\u001b[0m\u001b[0;34m(\u001b[0m\u001b[0;34m)\u001b[0m\u001b[0;34m)\u001b[0m\u001b[0;34m\u001b[0m\u001b[0m\n",
      "\u001b[0;31mNameError\u001b[0m: name 'df' is not defined"
     ]
    }
   ],
   "source": [
    "p = []\n",
    "a = []\n",
    "for address in df.URL:\n",
    "    try:\n",
    "        soup = BeautifulSoup(urllib2.urlopen(address).read())\n",
    "        for idx, para in enumerate(soup.find_all('p')):\n",
    "            if x not in p:\n",
    "                p[x] = [para.text]\n",
    "            else:\n",
    "                p[x] += [para.text]\n",
    "        for idx, para in enumerate(soup.find_all('a')):\n",
    "            if para['href'] != '/':\n",
    "                if x not in a:\n",
    "                    a[x] += [para['href']]\n",
    "                else:\n",
    "                    a[x] += [para['href']]\n",
    "    except Exception as e:\n",
    "        print e\n",
    "        \n",
    "para = pd.DataFrame()\n",
    "ahref = pd.DataFrame()\n",
    "para['Paragraphs'] = p\n",
    "ahref['Links'] = a"
   ]
  },
  {
   "cell_type": "code",
   "execution_count": null,
   "metadata": {
    "collapsed": false
   },
   "outputs": [],
   "source": [
    "p = []\n",
    "a = []\n",
    "\n",
    "for address in df.URL:\n",
    "    soup = BeautifulSoup(urllib2.urlopen(address).read(), \"lxml\")\n",
    "    for idx, para in enumerate(soup.find_all('p')):\n",
    "        p += [para.text]\n",
    "    for idx, para in enumerate(soup.find_all('a')):\n",
    "        if para['href'] != '/':\n",
    "            a += [para['href']]\n",
    "\n",
    "para = pd.DataFrame()\n",
    "ahref = pd.DataFrame()\n",
    "para['Paragraphs'] = p\n",
    "ahref['Links'] = a\n",
    "\n",
    "a[1]"
   ]
  },
  {
   "cell_type": "code",
   "execution_count": null,
   "metadata": {
    "collapsed": false,
    "scrolled": true
   },
   "outputs": [],
   "source": [
    "p = []\n",
    "a = []\n",
    "for idx, para in enumerate(soup.find_all('p')):\n",
    "    p += [para.text]\n",
    "for idx, para in enumerate(soup.find_all('a')):\n",
    "    if para['href'] != '/':\n",
    "        a += [para['href']]\n",
    "\n",
    "para = pd.DataFrame()\n",
    "ahref = pd.DataFrame()\n",
    "para['Paragraphs'] = p\n",
    "ahref['Links'] = a\n",
    "\n",
    "a[1]"
   ]
  },
  {
   "cell_type": "code",
   "execution_count": null,
   "metadata": {
    "collapsed": false
   },
   "outputs": [],
   "source": [
    "p = []\n",
    "a = []\n",
    "\n",
    "for address in df.URL:\n",
    "    soup = BeautifulSoup(urllib2.urlopen(address).read(), \"lxml\")\n",
    "    for idx, para in enumerate(soup.find_all('p')):\n",
    "        p += [para.text]\n",
    "    for idx, para in enumerate(soup.find_all('a')):\n",
    "        if para['href'] != '/':\n",
    "            a += [para['href']]\n",
    "\n",
    "para = pd.DataFrame()\n",
    "ahref = pd.DataFrame()\n",
    "para['Paragraphs'] = p\n",
    "ahref['Links'] = a\n",
    "\n",
    "a[1]"
   ]
  },
  {
   "cell_type": "code",
   "execution_count": null,
   "metadata": {
    "collapsed": false
   },
   "outputs": [],
   "source": [
    "ahref"
   ]
  },
  {
   "cell_type": "code",
   "execution_count": null,
   "metadata": {
    "collapsed": false
   },
   "outputs": [],
   "source": [
    "para"
   ]
  },
  {
   "cell_type": "markdown",
   "metadata": {
    "button": false,
    "deletable": true,
    "new_sheet": false,
    "run_control": {
     "read_only": false
    }
   },
   "source": [
    "# Cleaning..."
   ]
  },
  {
   "cell_type": "markdown",
   "metadata": {
    "button": false,
    "deletable": true,
    "new_sheet": false,
    "run_control": {
     "read_only": false
    }
   },
   "source": [
    "### Look through each of your words from your paragraph collecting. Remove as many of the nonsense values as you can."
   ]
  },
  {
   "cell_type": "code",
   "execution_count": null,
   "metadata": {
    "button": false,
    "collapsed": false,
    "deletable": true,
    "new_sheet": false,
    "run_control": {
     "read_only": false
    },
    "scrolled": false
   },
   "outputs": [],
   "source": [
    "import re\n",
    "rejects = ['the','and','to','a','this','is','a','on','has','new','in', \n",
    "           'it', 'have', 'was','but','i','about','be','not','if','at',\n",
    "           'an','of','that','by','from','as','with','for','are','were','or']\n",
    "\n",
    "rejects += [str(x) for x in range(10)]\n",
    "\n",
    "def replaceText(stringy):\n",
    "    new_stringy = re.sub(\"[^0-9a-z]\", \"\",stringy)\n",
    "    if not new_stringy:\n",
    "        return ''\n",
    "    return new_stringy\n",
    "\n",
    "\n",
    "print replaceText(para.ix[0].values[0].lower())\n",
    "\n",
    "#print para.ix[0].values[0].split(' ')"
   ]
  },
  {
   "cell_type": "markdown",
   "metadata": {
    "button": false,
    "deletable": true,
    "new_sheet": false,
    "run_control": {
     "read_only": false
    }
   },
   "source": [
    "### Now look at the links that you collected. Everything that doesn't begin with an http:// or an https:// is a direct link 99.9% of the time. Remove all links that don't begin with http:// or https://."
   ]
  },
  {
   "cell_type": "code",
   "execution_count": null,
   "metadata": {
    "button": false,
    "collapsed": false,
    "deletable": true,
    "new_sheet": false,
    "run_control": {
     "read_only": false
    }
   },
   "outputs": [],
   "source": []
  },
  {
   "cell_type": "markdown",
   "metadata": {
    "button": false,
    "deletable": true,
    "new_sheet": false,
    "run_control": {
     "read_only": false
    }
   },
   "source": [
    "# Munging (aka digging into the data)..."
   ]
  },
  {
   "cell_type": "markdown",
   "metadata": {
    "button": false,
    "deletable": true,
    "new_sheet": false,
    "run_control": {
     "read_only": false
    }
   },
   "source": [
    "### Every thing looks good buddy. Let's total up and print the top 10 words found in each of the urls with the subreddit's title above. Be sure to note any reference to class C starships in your report. O, and don't forget to remove the unnecessary words from the total. I don't think Supreme Commander Hugh Man would like to see words like 'the' and 'and' in his report."
   ]
  },
  {
   "cell_type": "code",
   "execution_count": null,
   "metadata": {
    "button": false,
    "collapsed": true,
    "deletable": true,
    "new_sheet": false,
    "run_control": {
     "read_only": false
    }
   },
   "outputs": [],
   "source": []
  },
  {
   "cell_type": "markdown",
   "metadata": {
    "button": false,
    "deletable": true,
    "new_sheet": false,
    "run_control": {
     "read_only": false
    }
   },
   "source": [
    "### Those totals seem pretty small to me. I don't think Mr. Man's mother would approve of those results. Let's compile the words from the 10 entries with the highest upvotes. No need to print out the titles again. Just the top 10 words should be sufficient."
   ]
  },
  {
   "cell_type": "code",
   "execution_count": null,
   "metadata": {
    "button": false,
    "collapsed": false,
    "deletable": true,
    "new_sheet": false,
    "run_control": {
     "read_only": false
    }
   },
   "outputs": [],
   "source": []
  },
  {
   "cell_type": "markdown",
   "metadata": {
    "button": false,
    "deletable": true,
    "new_sheet": false,
    "run_control": {
     "read_only": false
    }
   },
   "source": [
    "### Let's see how far this site's human tentacles spread! Print out a count of the top 10 base urls from your combined scrubbed links. \n",
    "\n",
    "___Remember a base url is everything after the first 'http://' or 'https://' and before the first '/' in a url. For example: the base url for https://www.google.com/intl/en/policies/privacy/ is www.google.com___"
   ]
  },
  {
   "cell_type": "code",
   "execution_count": null,
   "metadata": {
    "button": false,
    "collapsed": false,
    "deletable": true,
    "new_sheet": false,
    "run_control": {
     "read_only": false
    }
   },
   "outputs": [],
   "source": []
  },
  {
   "cell_type": "markdown",
   "metadata": {
    "button": false,
    "deletable": true,
    "new_sheet": false,
    "run_control": {
     "read_only": false
    }
   },
   "source": [
    "# These are serious bonus questions. \n",
    "<br>\n",
    "** Not for the faint of heart! **"
   ]
  },
  {
   "cell_type": "markdown",
   "metadata": {
    "button": false,
    "deletable": true,
    "new_sheet": false,
    "run_control": {
     "read_only": false
    }
   },
   "source": [
    "### Assistant back! Good work human friend. Let's total up and print the top 10 words found in all comment sections. In addition to starships, make sure there is no mention of aliens or lizard people. We don't want to scare Mr. Man's mother with ideas that obviously aren't true."
   ]
  },
  {
   "cell_type": "code",
   "execution_count": null,
   "metadata": {
    "button": false,
    "collapsed": true,
    "deletable": true,
    "new_sheet": false,
    "run_control": {
     "read_only": false
    }
   },
   "outputs": [],
   "source": []
  },
  {
   "cell_type": "markdown",
   "metadata": {
    "button": false,
    "deletable": true,
    "new_sheet": false,
    "run_control": {
     "read_only": false
    }
   },
   "source": [
    "### Oops! Looks like we made a mistake. The word each and both is inconveniently close in Zar... I mean English. Please find the top 10 combined word totals from the comments and urls for ___EACH___ entry."
   ]
  },
  {
   "cell_type": "code",
   "execution_count": null,
   "metadata": {
    "button": false,
    "collapsed": true,
    "deletable": true,
    "new_sheet": false,
    "run_control": {
     "read_only": false
    }
   },
   "outputs": [],
   "source": []
  },
  {
   "cell_type": "markdown",
   "metadata": {
    "button": false,
    "deletable": true,
    "new_sheet": false,
    "run_control": {
     "read_only": false
    }
   },
   "source": [
    "### Good work friend! We can now send this data back to the human lab for analysis. Until next time guy. This is Hugh Man out."
   ]
  },
  {
   "cell_type": "markdown",
   "metadata": {
    "button": false,
    "deletable": true,
    "new_sheet": false,
    "run_control": {
     "read_only": false
    }
   },
   "source": [
    "<img src=\"https://media.tenor.co/images/c44fc07f543327c1073653ce8e99c17e/raw\" alt=\"Title\" style=\"border: 5px solid #000000; padding: 10px; width: 250px; height: 200px;\"/>"
   ]
  },
  {
   "cell_type": "markdown",
   "metadata": {
    "button": false,
    "deletable": true,
    "new_sheet": false,
    "run_control": {
     "read_only": false
    }
   },
   "source": [
    "<img src=\"https://media.giphy.com/media/xaMg6NGwH2fFS/giphy.gif\" alt=\"Title\" style=\"border: 5px solid #000000; padding: 10px; width: 250px; height: 200px;\"/>"
   ]
  }
 ],
 "metadata": {
  "anaconda-cloud": {},
  "kernelspec": {
   "display_name": "Python [default]",
   "language": "python",
   "name": "python2"
  },
  "language_info": {
   "codemirror_mode": {
    "name": "ipython",
    "version": 2
   },
   "file_extension": ".py",
   "mimetype": "text/x-python",
   "name": "python",
   "nbconvert_exporter": "python",
   "pygments_lexer": "ipython2",
   "version": "2.7.12"
  }
 },
 "nbformat": 4,
 "nbformat_minor": 0
}

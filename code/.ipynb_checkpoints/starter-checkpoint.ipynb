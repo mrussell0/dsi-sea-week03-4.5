{
 "cells": [
  {
   "cell_type": "markdown",
   "metadata": {
    "button": false,
    "deletable": true,
    "new_sheet": false,
    "run_control": {
     "read_only": false
    }
   },
   "source": [
    "___Hello? Can anyone hear me?___"
   ]
  },
  {
   "cell_type": "markdown",
   "metadata": {
    "button": false,
    "deletable": true,
    "new_sheet": false,
    "run_control": {
     "read_only": false
    }
   },
   "source": [
    "<img src=\"https://media.giphy.com/media/xaMg6NGwH2fFS/giphy.gif\" alt=\"Title\" style=\"border: 5px solid #000000; padding: 10px; width: 250px; height: 200px;\"/>"
   ]
  },
  {
   "cell_type": "markdown",
   "metadata": {
    "button": false,
    "deletable": true,
    "new_sheet": false,
    "run_control": {
     "read_only": false
    }
   },
   "source": [
    "## There. Is that better?"
   ]
  },
  {
   "cell_type": "markdown",
   "metadata": {
    "button": false,
    "deletable": true,
    "new_sheet": false,
    "run_control": {
     "read_only": false
    }
   },
   "source": [
    "<img src=\"http://bestanimations.com/Sci-Fi/Aliens/little-grey-extraterrestial-aliens-animated-gif-image-10.gif\" alt=\"Title\" style=\"border: 5px solid #000000; padding: 10px; width: 250px; height: 200px;\"/>"
   ]
  },
  {
   "cell_type": "markdown",
   "metadata": {
    "button": false,
    "deletable": true,
    "new_sheet": false,
    "run_control": {
     "read_only": false
    }
   },
   "source": [
    "## Good... Hello fellow person. My name is Hugh Man. I am also a person like you! Here is a picture of me at a normal human party with my normal human friends!"
   ]
  },
  {
   "cell_type": "markdown",
   "metadata": {
    "button": false,
    "deletable": true,
    "new_sheet": false,
    "run_control": {
     "read_only": false
    }
   },
   "source": [
    "<img src=\"http://www.promvenues.com/blogs/media/Crazy%20Prom%20Themes%20for%20Teenagers%20to%20Spice%20up%20Their%20Party_142.jpg\" alt=\"Title\" style=\"border: 5px solid #000000; padding: 10px; width: 250px; height: 200px;\"/>"
   ]
  },
  {
   "cell_type": "markdown",
   "metadata": {
    "button": false,
    "deletable": true,
    "new_sheet": false,
    "run_control": {
     "read_only": false
    }
   },
   "source": [
    "## Look how much fun we are having drinking everyday human liquids!"
   ]
  },
  {
   "cell_type": "markdown",
   "metadata": {
    "button": false,
    "deletable": true,
    "new_sheet": false,
    "run_control": {
     "read_only": false
    }
   },
   "source": [
    "## Anyways, I have sent this communication to ask you a few questions about normal human activities, that I also do. My human mother is very sick and doesn't get out from her two story Dutch Colonial condo as often as she would like. Here is a picture of her from yesterday."
   ]
  },
  {
   "cell_type": "markdown",
   "metadata": {
    "button": false,
    "deletable": true,
    "new_sheet": false,
    "run_control": {
     "read_only": false
    }
   },
   "source": [
    "<img src=\"http://previews.123rf.com/images/szefei/szefei1302/szefei130200062/18061194-Happy-mother-s-day-concept-Asian-senior-mother-showing-a-gift-and-carnation-flowers-at-home--Stock-Photo.jpg\" alt=\"Title\" style=\"border: 5px solid #000000; padding: 10px; width: 250px; height: 200px;\"/>"
   ]
  },
  {
   "cell_type": "markdown",
   "metadata": {
    "button": false,
    "deletable": true,
    "new_sheet": false,
    "run_control": {
     "read_only": false
    }
   },
   "source": [
    "## She was wondering about the state of technological / military advancement on your human planet. She is very fearful of planets with enough technology to shoot down class C starships from space. Can you help put her fears to rest? My assistant will beam the details to your computer."
   ]
  },
  {
   "cell_type": "markdown",
   "metadata": {
    "button": false,
    "deletable": true,
    "new_sheet": false,
    "run_control": {
     "read_only": false
    }
   },
   "source": [
    "___Beep___\n",
    "### Assistant here! I have updated your notebook with the proper protocols. Please follow the instructions provided.\n",
    "\n",
    "#### Requirements\n",
    "\n",
    "* Access the 'conspiracy' site (https://www.reddit.com/r/conspiracy.json). You should get the first 25 entries from the subreddit right away.\n",
    "* Make sure to keep track of the entry position, title, and upvotes for each entry in the subreddit\n",
    "* Crawl through each url. Extract all the text from each paragraph (they have a <**p**> tag). If there is no url, skip this step.\n",
    "* Crawl through each url. Extract all the links from each link tag (they have an <**a**> tag). If there is no url, skip this step.\n",
    "\n",
    "*** Bonus ***\n",
    "\n",
    "* Crawl through each of the comments. Extract all the text from the body keys of each comment\n",
    "\n",
    "#### Tips\n",
    "\n",
    "* Each entry on the site contains a key called \"permalink\" add it to your base url to navigate to that link's comments\n",
    "* Each entry on the site contains a key called \"url\". Use this link to navigate to the page described in the post\n",
    "\n",
    "<br>\n",
    "** Base Url => https://www.reddit.com **\n"
   ]
  },
  {
   "cell_type": "code",
   "execution_count": 10,
   "metadata": {
    "button": false,
    "collapsed": false,
    "deletable": true,
    "new_sheet": false,
    "run_control": {
     "read_only": false
    }
   },
   "outputs": [],
   "source": [
    "import urllib2\n",
    "from bs4 import BeautifulSoup\n",
    "import json\n",
    "import pandas as pd\n",
    "\n",
    "base = 'https://www.reddit.com'\n",
    "soup = BeautifulSoup(urllib2.urlopen('https://www.reddit.com/r/conspiracy.json').read())\n",
    "parsed_json = json.loads(soup.text)"
   ]
  },
  {
   "cell_type": "code",
   "execution_count": 77,
   "metadata": {
    "collapsed": false
   },
   "outputs": [
    {
     "data": {
      "text/html": [
       "<div>\n",
       "<table border=\"1\" class=\"dataframe\">\n",
       "  <thead>\n",
       "    <tr style=\"text-align: right;\">\n",
       "      <th></th>\n",
       "      <th>Title</th>\n",
       "      <th>Upvotes</th>\n",
       "      <th>URL</th>\n",
       "    </tr>\n",
       "  </thead>\n",
       "  <tbody>\n",
       "    <tr>\n",
       "      <th>0</th>\n",
       "      <td>Project Veritas: Clinton Campaign and DNC Inci...</td>\n",
       "      <td>3996</td>\n",
       "      <td>https://www.youtube.com/watch?v=5IuJGHuIkzY</td>\n",
       "    </tr>\n",
       "    <tr>\n",
       "      <th>1</th>\n",
       "      <td>Rigging the Election - Video II: Mass Voter Fraud</td>\n",
       "      <td>2740</td>\n",
       "      <td>https://www.youtube.com/watch?v=hDc8PVCvfKs</td>\n",
       "    </tr>\n",
       "    <tr>\n",
       "      <th>2</th>\n",
       "      <td>Pentagon: Hillary Clinton Should Be Arrested F...</td>\n",
       "      <td>822</td>\n",
       "      <td>http://truepundit.com/pentagon-hillary-clinton...</td>\n",
       "    </tr>\n",
       "    <tr>\n",
       "      <th>3</th>\n",
       "      <td>CNN focus group chose 3rd party over Trump or ...</td>\n",
       "      <td>584</td>\n",
       "      <td>https://www.youtube.com/watch?v=06o2Thf4c94</td>\n",
       "    </tr>\n",
       "    <tr>\n",
       "      <th>4</th>\n",
       "      <td>Dalai Lama: “Vladimir Putin is right... the U....</td>\n",
       "      <td>416</td>\n",
       "      <td>http://whatsupic.com/news-politics-world/14769...</td>\n",
       "    </tr>\n",
       "    <tr>\n",
       "      <th>5</th>\n",
       "      <td>\"Politics is just the entertainment division o...</td>\n",
       "      <td>266</td>\n",
       "      <td>https://www.reddit.com/r/conspiracy/comments/5...</td>\n",
       "    </tr>\n",
       "    <tr>\n",
       "      <th>6</th>\n",
       "      <td>Podesta emails part 13</td>\n",
       "      <td>392</td>\n",
       "      <td>https://twitter.com/wikileaks/status/789078312...</td>\n",
       "    </tr>\n",
       "    <tr>\n",
       "      <th>7</th>\n",
       "      <td>The Government and MSM Are Engaged in DIRECT P...</td>\n",
       "      <td>249</td>\n",
       "      <td>https://www.sprottmoney.com/blog/the-governmen...</td>\n",
       "    </tr>\n",
       "    <tr>\n",
       "      <th>8</th>\n",
       "      <td>Trump wants to interpret the Constitution the ...</td>\n",
       "      <td>268</td>\n",
       "      <td>https://i.sli.mg/vWLzEd.jpg</td>\n",
       "    </tr>\n",
       "    <tr>\n",
       "      <th>9</th>\n",
       "      <td>The DNC is a corrupt organization. Donna Brazi...</td>\n",
       "      <td>110</td>\n",
       "      <td>https://www.reddit.com/r/conspiracy/comments/5...</td>\n",
       "    </tr>\n",
       "    <tr>\n",
       "      <th>10</th>\n",
       "      <td>Chris Wallace asked Hillary Clinton to respond...</td>\n",
       "      <td>322</td>\n",
       "      <td>https://theintercept.com/liveblogs/thirddebate/</td>\n",
       "    </tr>\n",
       "    <tr>\n",
       "      <th>11</th>\n",
       "      <td>Coca-Cola and Pepsi caught financing 96 nation...</td>\n",
       "      <td>209</td>\n",
       "      <td>http://www.naturalnews.com/055615_soda_industr...</td>\n",
       "    </tr>\n",
       "    <tr>\n",
       "      <th>12</th>\n",
       "      <td>Guess we know who YouTubes voting for</td>\n",
       "      <td>143</td>\n",
       "      <td>https://i.reddituploads.com/bf20d9f82ed04a5982...</td>\n",
       "    </tr>\n",
       "    <tr>\n",
       "      <th>13</th>\n",
       "      <td>Podesta Emails: Hillary takes Algeria off terr...</td>\n",
       "      <td>84</td>\n",
       "      <td>https://twitter.com/Grant503/status/7890931932...</td>\n",
       "    </tr>\n",
       "    <tr>\n",
       "      <th>14</th>\n",
       "      <td>I suggest a boycott of Reddit Gold if wikileak...</td>\n",
       "      <td>604</td>\n",
       "      <td>https://www.reddit.com/r/conspiracy/comments/5...</td>\n",
       "    </tr>\n",
       "    <tr>\n",
       "      <th>15</th>\n",
       "      <td>Hillary was literally just called out. twice. ...</td>\n",
       "      <td>1462</td>\n",
       "      <td>https://www.reddit.com/r/conspiracy/comments/5...</td>\n",
       "    </tr>\n",
       "    <tr>\n",
       "      <th>16</th>\n",
       "      <td>WikiLeaks reveals Hillary’s admin discussing w...</td>\n",
       "      <td>74</td>\n",
       "      <td>http://www.newstarget.com/2016-10-19-wikileaks...</td>\n",
       "    </tr>\n",
       "    <tr>\n",
       "      <th>17</th>\n",
       "      <td>Hillary, the only first lady to ever be crimin...</td>\n",
       "      <td>84</td>\n",
       "      <td>https://www.reddit.com/r/conspiracy/comments/5...</td>\n",
       "    </tr>\n",
       "    <tr>\n",
       "      <th>18</th>\n",
       "      <td>The Honesty and Courage of Jill Stein: On War ...</td>\n",
       "      <td>68</td>\n",
       "      <td>http://dissidentvoice.org/2016/10/the-honesty-...</td>\n",
       "    </tr>\n",
       "    <tr>\n",
       "      <th>19</th>\n",
       "      <td>If you're not in a swing state, definitely vot...</td>\n",
       "      <td>42</td>\n",
       "      <td>https://www.reddit.com/r/conspiracy/comments/5...</td>\n",
       "    </tr>\n",
       "    <tr>\n",
       "      <th>20</th>\n",
       "      <td>Don't forget Clint0n is partially funded by we...</td>\n",
       "      <td>188</td>\n",
       "      <td>http://www.telesurtv.net/english/news/Clinton-...</td>\n",
       "    </tr>\n",
       "    <tr>\n",
       "      <th>21</th>\n",
       "      <td>DNC boss Brazile claims WikiLeaks emails 'doct...</td>\n",
       "      <td>57</td>\n",
       "      <td>http://www.foxnews.com/politics/2016/10/20/dnc...</td>\n",
       "    </tr>\n",
       "    <tr>\n",
       "      <th>22</th>\n",
       "      <td>Before this election, I didn't believe in cons...</td>\n",
       "      <td>43</td>\n",
       "      <td>https://www.reddit.com/r/conspiracy/comments/5...</td>\n",
       "    </tr>\n",
       "    <tr>\n",
       "      <th>23</th>\n",
       "      <td>‘We came, we saw, he died’: How Gaddafi was hu...</td>\n",
       "      <td>144</td>\n",
       "      <td>https://www.rt.com/news/363454-timeline-gaddaf...</td>\n",
       "    </tr>\n",
       "    <tr>\n",
       "      <th>24</th>\n",
       "      <td>\"That sucks, we obviously lost the satellite f...</td>\n",
       "      <td>60</td>\n",
       "      <td>https://www.youtube.com/watch?v=J8cOLIOaikU</td>\n",
       "    </tr>\n",
       "    <tr>\n",
       "      <th>25</th>\n",
       "      <td>'Smoking Gun' Email Confirms DNC Involvement I...</td>\n",
       "      <td>29</td>\n",
       "      <td>http://www.zerohedge.com/news/2016-10-20/dnc-l...</td>\n",
       "    </tr>\n",
       "    <tr>\n",
       "      <th>26</th>\n",
       "      <td>James Traficant: Israel uses us like a whore</td>\n",
       "      <td>49</td>\n",
       "      <td>http://www.liveleak.com/view?i=f5e_1476974588</td>\n",
       "    </tr>\n",
       "  </tbody>\n",
       "</table>\n",
       "</div>"
      ],
      "text/plain": [
       "                                                Title  Upvotes  \\\n",
       "0   Project Veritas: Clinton Campaign and DNC Inci...     3996   \n",
       "1   Rigging the Election - Video II: Mass Voter Fraud     2740   \n",
       "2   Pentagon: Hillary Clinton Should Be Arrested F...      822   \n",
       "3   CNN focus group chose 3rd party over Trump or ...      584   \n",
       "4   Dalai Lama: “Vladimir Putin is right... the U....      416   \n",
       "5   \"Politics is just the entertainment division o...      266   \n",
       "6                              Podesta emails part 13      392   \n",
       "7   The Government and MSM Are Engaged in DIRECT P...      249   \n",
       "8   Trump wants to interpret the Constitution the ...      268   \n",
       "9   The DNC is a corrupt organization. Donna Brazi...      110   \n",
       "10  Chris Wallace asked Hillary Clinton to respond...      322   \n",
       "11  Coca-Cola and Pepsi caught financing 96 nation...      209   \n",
       "12              Guess we know who YouTubes voting for      143   \n",
       "13  Podesta Emails: Hillary takes Algeria off terr...       84   \n",
       "14  I suggest a boycott of Reddit Gold if wikileak...      604   \n",
       "15  Hillary was literally just called out. twice. ...     1462   \n",
       "16  WikiLeaks reveals Hillary’s admin discussing w...       74   \n",
       "17  Hillary, the only first lady to ever be crimin...       84   \n",
       "18  The Honesty and Courage of Jill Stein: On War ...       68   \n",
       "19  If you're not in a swing state, definitely vot...       42   \n",
       "20  Don't forget Clint0n is partially funded by we...      188   \n",
       "21  DNC boss Brazile claims WikiLeaks emails 'doct...       57   \n",
       "22  Before this election, I didn't believe in cons...       43   \n",
       "23  ‘We came, we saw, he died’: How Gaddafi was hu...      144   \n",
       "24  \"That sucks, we obviously lost the satellite f...       60   \n",
       "25  'Smoking Gun' Email Confirms DNC Involvement I...       29   \n",
       "26       James Traficant: Israel uses us like a whore       49   \n",
       "\n",
       "                                                  URL  \n",
       "0         https://www.youtube.com/watch?v=5IuJGHuIkzY  \n",
       "1         https://www.youtube.com/watch?v=hDc8PVCvfKs  \n",
       "2   http://truepundit.com/pentagon-hillary-clinton...  \n",
       "3         https://www.youtube.com/watch?v=06o2Thf4c94  \n",
       "4   http://whatsupic.com/news-politics-world/14769...  \n",
       "5   https://www.reddit.com/r/conspiracy/comments/5...  \n",
       "6   https://twitter.com/wikileaks/status/789078312...  \n",
       "7   https://www.sprottmoney.com/blog/the-governmen...  \n",
       "8                         https://i.sli.mg/vWLzEd.jpg  \n",
       "9   https://www.reddit.com/r/conspiracy/comments/5...  \n",
       "10    https://theintercept.com/liveblogs/thirddebate/  \n",
       "11  http://www.naturalnews.com/055615_soda_industr...  \n",
       "12  https://i.reddituploads.com/bf20d9f82ed04a5982...  \n",
       "13  https://twitter.com/Grant503/status/7890931932...  \n",
       "14  https://www.reddit.com/r/conspiracy/comments/5...  \n",
       "15  https://www.reddit.com/r/conspiracy/comments/5...  \n",
       "16  http://www.newstarget.com/2016-10-19-wikileaks...  \n",
       "17  https://www.reddit.com/r/conspiracy/comments/5...  \n",
       "18  http://dissidentvoice.org/2016/10/the-honesty-...  \n",
       "19  https://www.reddit.com/r/conspiracy/comments/5...  \n",
       "20  http://www.telesurtv.net/english/news/Clinton-...  \n",
       "21  http://www.foxnews.com/politics/2016/10/20/dnc...  \n",
       "22  https://www.reddit.com/r/conspiracy/comments/5...  \n",
       "23  https://www.rt.com/news/363454-timeline-gaddaf...  \n",
       "24        https://www.youtube.com/watch?v=J8cOLIOaikU  \n",
       "25  http://www.zerohedge.com/news/2016-10-20/dnc-l...  \n",
       "26      http://www.liveleak.com/view?i=f5e_1476974588  "
      ]
     },
     "execution_count": 77,
     "metadata": {},
     "output_type": "execute_result"
    }
   ],
   "source": [
    "data = parsed_json[\"data\"]['children']\n",
    "\n",
    "title = []\n",
    "ups = []\n",
    "url = []\n",
    "plink = []\n",
    "\n",
    "for posts in data:\n",
    "    title += [posts['data']['title']]\n",
    "    ups += [posts['data']['ups']]\n",
    "    url += [posts['data']['url']]\n",
    "    url += [posts['data']['permalink']]\n",
    "    \n",
    "\n",
    "df = pd.DataFrame()\n",
    "df['Title'] = title\n",
    "df['Upvotes'] = ups\n",
    "df['URL'] = url\n",
    "df['Permalink'] = plink\n",
    "df"
   ]
  },
  {
   "cell_type": "code",
   "execution_count": 147,
   "metadata": {
    "collapsed": false
   },
   "outputs": [],
   "source": [
    "soup = BeautifulSoup(urllib2.urlopen('https://www.youtube.com/watch?v=5IuJGHuIkzY').read(), \"lxml\")"
   ]
  },
  {
   "cell_type": "code",
   "execution_count": 222,
   "metadata": {
    "collapsed": false
   },
   "outputs": [
    {
     "data": {
      "text/plain": [
       "'https://www.google.com/get/videoqualityreport/?v=5IuJGHuIkzY'"
      ]
     },
     "execution_count": 222,
     "metadata": {},
     "output_type": "execute_result"
    }
   ],
   "source": [
    "p = []\n",
    "a = []\n",
    "for idx, para in enumerate(soup.find_all('p')):\n",
    "    p += [para.text]\n",
    "for idx, para in enumerate(soup.find_all('a')):\n",
    "    if para['href'] != '/':\n",
    "        a += [para['href']]\n",
    "\n",
    "para = pd.DataFrame()\n",
    "ahref = pd.DataFrame()\n",
    "para['Paragraphs'] = p\n",
    "ahref['Links'] = a\n",
    "\n",
    "a[1]"
   ]
  },
  {
   "cell_type": "code",
   "execution_count": 223,
   "metadata": {
    "collapsed": false
   },
   "outputs": [
    {
     "data": {
      "text/html": [
       "<div>\n",
       "<table border=\"1\" class=\"dataframe\">\n",
       "  <thead>\n",
       "    <tr style=\"text-align: right;\">\n",
       "      <th></th>\n",
       "      <th>Paragraphs</th>\n",
       "    </tr>\n",
       "  </thead>\n",
       "  <tbody>\n",
       "    <tr>\n",
       "      <th>0</th>\n",
       "      <td>\\n\\n\\nLoading...\\n    \\n</td>\n",
       "    </tr>\n",
       "    <tr>\n",
       "      <th>1</th>\n",
       "      <td>\\n\\n\\nLoading...\\n    \\n</td>\n",
       "    </tr>\n",
       "    <tr>\n",
       "      <th>2</th>\n",
       "      <td>\\n\\n\\nLoading...\\n    \\n</td>\n",
       "    </tr>\n",
       "    <tr>\n",
       "      <th>3</th>\n",
       "      <td>\\n\\n\\nLoading...\\n    \\n</td>\n",
       "    </tr>\n",
       "    <tr>\n",
       "      <th>4</th>\n",
       "      <td>\\n\\n\\n        Working...\\n    \\n</td>\n",
       "    </tr>\n",
       "    <tr>\n",
       "      <th>5</th>\n",
       "      <td>\\n\\n\\nLoading...\\n    \\n</td>\n",
       "    </tr>\n",
       "    <tr>\n",
       "      <th>6</th>\n",
       "      <td>\\n\\n\\nLoading...\\n    \\n</td>\n",
       "    </tr>\n",
       "    <tr>\n",
       "      <th>7</th>\n",
       "      <td>\\n\\n\\nLoading...\\n    \\n</td>\n",
       "    </tr>\n",
       "    <tr>\n",
       "      <th>8</th>\n",
       "      <td>\\n\\n\\nLoading...\\n    \\n</td>\n",
       "    </tr>\n",
       "    <tr>\n",
       "      <th>9</th>\n",
       "      <td>In this explosive new video from Project Verit...</td>\n",
       "    </tr>\n",
       "    <tr>\n",
       "      <th>10</th>\n",
       "      <td>\\n\\n\\nLoading...\\n    \\n</td>\n",
       "    </tr>\n",
       "    <tr>\n",
       "      <th>11</th>\n",
       "      <td>\\n\\n\\nLoading...\\n    \\n</td>\n",
       "    </tr>\n",
       "    <tr>\n",
       "      <th>12</th>\n",
       "      <td>\\n\\n\\nLoading...\\n    \\n</td>\n",
       "    </tr>\n",
       "    <tr>\n",
       "      <th>13</th>\n",
       "      <td>\\n\\n\\nLoading...\\n    \\n</td>\n",
       "    </tr>\n",
       "    <tr>\n",
       "      <th>14</th>\n",
       "      <td>\\n\\n\\nLoading...\\n    \\n</td>\n",
       "    </tr>\n",
       "    <tr>\n",
       "      <th>15</th>\n",
       "      <td>\\n\\n\\n        Working...\\n    \\n</td>\n",
       "    </tr>\n",
       "    <tr>\n",
       "      <th>16</th>\n",
       "      <td>\\n\\n\\n        Loading playlists...\\n    \\n</td>\n",
       "    </tr>\n",
       "  </tbody>\n",
       "</table>\n",
       "</div>"
      ],
      "text/plain": [
       "                                           Paragraphs\n",
       "0                            \\n\\n\\nLoading...\\n    \\n\n",
       "1                            \\n\\n\\nLoading...\\n    \\n\n",
       "2                            \\n\\n\\nLoading...\\n    \\n\n",
       "3                            \\n\\n\\nLoading...\\n    \\n\n",
       "4                    \\n\\n\\n        Working...\\n    \\n\n",
       "5                            \\n\\n\\nLoading...\\n    \\n\n",
       "6                            \\n\\n\\nLoading...\\n    \\n\n",
       "7                            \\n\\n\\nLoading...\\n    \\n\n",
       "8                            \\n\\n\\nLoading...\\n    \\n\n",
       "9   In this explosive new video from Project Verit...\n",
       "10                           \\n\\n\\nLoading...\\n    \\n\n",
       "11                           \\n\\n\\nLoading...\\n    \\n\n",
       "12                           \\n\\n\\nLoading...\\n    \\n\n",
       "13                           \\n\\n\\nLoading...\\n    \\n\n",
       "14                           \\n\\n\\nLoading...\\n    \\n\n",
       "15                   \\n\\n\\n        Working...\\n    \\n\n",
       "16         \\n\\n\\n        Loading playlists...\\n    \\n"
      ]
     },
     "execution_count": 223,
     "metadata": {},
     "output_type": "execute_result"
    }
   ],
   "source": [
    "para"
   ]
  },
  {
   "cell_type": "markdown",
   "metadata": {
    "button": false,
    "deletable": true,
    "new_sheet": false,
    "run_control": {
     "read_only": false
    }
   },
   "source": [
    "# Cleaning..."
   ]
  },
  {
   "cell_type": "markdown",
   "metadata": {
    "button": false,
    "deletable": true,
    "new_sheet": false,
    "run_control": {
     "read_only": false
    }
   },
   "source": [
    "### Look through each of your words from your paragraph collecting. Remove as many of the nonsense values as you can."
   ]
  },
  {
   "cell_type": "code",
   "execution_count": 236,
   "metadata": {
    "button": false,
    "collapsed": false,
    "deletable": true,
    "new_sheet": false,
    "run_control": {
     "read_only": false
    },
    "scrolled": false
   },
   "outputs": [
    {
     "name": "stdout",
     "output_type": "stream",
     "text": [
      "loading\n"
     ]
    }
   ],
   "source": [
    "import re\n",
    "rejects = ['the','and','to','a','this','is','a','on','has','new','in', \n",
    "           'it', 'have', 'was','but','i','about','be','not','if','at',\n",
    "           'an','of','that','by','from','as','with','for','are','were','or']\n",
    "\n",
    "rejects += [str(x) for x in range(10)]\n",
    "\n",
    "def replaceText(stringy):\n",
    "    new_stringy = re.sub(\"[^0-9a-z]\", \"\",stringy)\n",
    "    if not new_stringy:\n",
    "        return ''\n",
    "    return new_stringy\n",
    "\n",
    "print replaceText(para.ix[0].values[0].lower())\n",
    "\n",
    "#print para.ix[0].values[0].split(' ')"
   ]
  },
  {
   "cell_type": "markdown",
   "metadata": {
    "button": false,
    "deletable": true,
    "new_sheet": false,
    "run_control": {
     "read_only": false
    }
   },
   "source": [
    "### Now look at the links that you collected. Everything that doesn't begin with an http:// or an https:// is a direct link 99.9% of the time. Remove all links that don't begin with http:// or https://."
   ]
  },
  {
   "cell_type": "code",
   "execution_count": null,
   "metadata": {
    "button": false,
    "collapsed": false,
    "deletable": true,
    "new_sheet": false,
    "run_control": {
     "read_only": false
    }
   },
   "outputs": [],
   "source": []
  },
  {
   "cell_type": "markdown",
   "metadata": {
    "button": false,
    "deletable": true,
    "new_sheet": false,
    "run_control": {
     "read_only": false
    }
   },
   "source": [
    "# Munging (aka digging into the data)..."
   ]
  },
  {
   "cell_type": "markdown",
   "metadata": {
    "button": false,
    "deletable": true,
    "new_sheet": false,
    "run_control": {
     "read_only": false
    }
   },
   "source": [
    "### Every thing looks good buddy. Let's total up and print the top 10 words found in each of the urls with the subreddit's title above. Be sure to note any reference to class C starships in your report. O, and don't forget to remove the unnecessary words from the total. I don't think Supreme Commander Hugh Man would like to see words like 'the' and 'and' in his report."
   ]
  },
  {
   "cell_type": "code",
   "execution_count": null,
   "metadata": {
    "button": false,
    "collapsed": true,
    "deletable": true,
    "new_sheet": false,
    "run_control": {
     "read_only": false
    }
   },
   "outputs": [],
   "source": []
  },
  {
   "cell_type": "markdown",
   "metadata": {
    "button": false,
    "deletable": true,
    "new_sheet": false,
    "run_control": {
     "read_only": false
    }
   },
   "source": [
    "### Those totals seem pretty small to me. I don't think Mr. Man's mother would approve of those results. Let's compile the words from the 10 entries with the highest upvotes. No need to print out the titles again. Just the top 10 words should be sufficient."
   ]
  },
  {
   "cell_type": "code",
   "execution_count": null,
   "metadata": {
    "button": false,
    "collapsed": false,
    "deletable": true,
    "new_sheet": false,
    "run_control": {
     "read_only": false
    }
   },
   "outputs": [],
   "source": []
  },
  {
   "cell_type": "markdown",
   "metadata": {
    "button": false,
    "deletable": true,
    "new_sheet": false,
    "run_control": {
     "read_only": false
    }
   },
   "source": [
    "### Let's see how far this site's human tentacles spread! Print out a count of the top 10 base urls from your combined scrubbed links. \n",
    "\n",
    "___Remember a base url is everything after the first 'http://' or 'https://' and before the first '/' in a url. For example: the base url for https://www.google.com/intl/en/policies/privacy/ is www.google.com___"
   ]
  },
  {
   "cell_type": "code",
   "execution_count": null,
   "metadata": {
    "button": false,
    "collapsed": false,
    "deletable": true,
    "new_sheet": false,
    "run_control": {
     "read_only": false
    }
   },
   "outputs": [],
   "source": []
  },
  {
   "cell_type": "markdown",
   "metadata": {
    "button": false,
    "deletable": true,
    "new_sheet": false,
    "run_control": {
     "read_only": false
    }
   },
   "source": [
    "# These are serious bonus questions. \n",
    "<br>\n",
    "** Not for the faint of heart! **"
   ]
  },
  {
   "cell_type": "markdown",
   "metadata": {
    "button": false,
    "deletable": true,
    "new_sheet": false,
    "run_control": {
     "read_only": false
    }
   },
   "source": [
    "### Assistant back! Good work human friend. Let's total up and print the top 10 words found in all comment sections. In addition to starships, make sure there is no mention of aliens or lizard people. We don't want to scare Mr. Man's mother with ideas that obviously aren't true."
   ]
  },
  {
   "cell_type": "code",
   "execution_count": null,
   "metadata": {
    "button": false,
    "collapsed": true,
    "deletable": true,
    "new_sheet": false,
    "run_control": {
     "read_only": false
    }
   },
   "outputs": [],
   "source": []
  },
  {
   "cell_type": "markdown",
   "metadata": {
    "button": false,
    "deletable": true,
    "new_sheet": false,
    "run_control": {
     "read_only": false
    }
   },
   "source": [
    "### Oops! Looks like we made a mistake. The word each and both is inconveniently close in Zar... I mean English. Please find the top 10 combined word totals from the comments and urls for ___EACH___ entry."
   ]
  },
  {
   "cell_type": "code",
   "execution_count": null,
   "metadata": {
    "button": false,
    "collapsed": true,
    "deletable": true,
    "new_sheet": false,
    "run_control": {
     "read_only": false
    }
   },
   "outputs": [],
   "source": []
  },
  {
   "cell_type": "markdown",
   "metadata": {
    "button": false,
    "deletable": true,
    "new_sheet": false,
    "run_control": {
     "read_only": false
    }
   },
   "source": [
    "### Good work friend! We can now send this data back to the human lab for analysis. Until next time guy. This is Hugh Man out."
   ]
  },
  {
   "cell_type": "markdown",
   "metadata": {
    "button": false,
    "deletable": true,
    "new_sheet": false,
    "run_control": {
     "read_only": false
    }
   },
   "source": [
    "<img src=\"https://media.tenor.co/images/c44fc07f543327c1073653ce8e99c17e/raw\" alt=\"Title\" style=\"border: 5px solid #000000; padding: 10px; width: 250px; height: 200px;\"/>"
   ]
  },
  {
   "cell_type": "markdown",
   "metadata": {
    "button": false,
    "deletable": true,
    "new_sheet": false,
    "run_control": {
     "read_only": false
    }
   },
   "source": [
    "<img src=\"https://media.giphy.com/media/xaMg6NGwH2fFS/giphy.gif\" alt=\"Title\" style=\"border: 5px solid #000000; padding: 10px; width: 250px; height: 200px;\"/>"
   ]
  }
 ],
 "metadata": {
  "anaconda-cloud": {},
  "kernelspec": {
   "display_name": "Python [default]",
   "language": "python",
   "name": "python2"
  },
  "language_info": {
   "codemirror_mode": {
    "name": "ipython",
    "version": 2
   },
   "file_extension": ".py",
   "mimetype": "text/x-python",
   "name": "python",
   "nbconvert_exporter": "python",
   "pygments_lexer": "ipython2",
   "version": "2.7.12"
  }
 },
 "nbformat": 4,
 "nbformat_minor": 0
}
